{
 "cells": [
  {
   "cell_type": "code",
   "execution_count": 21,
   "id": "da653d92-a1f7-4ee9-9f6e-c496211a0b0d",
   "metadata": {},
   "outputs": [],
   "source": [
    "from bs4 import BeautifulSoup\n",
    "import requests\n",
    "import smtplib # for emailing to yourself\n",
    "import time\n",
    "import datetime"
   ]
  },
  {
   "cell_type": "code",
   "execution_count": 22,
   "id": "30b149af-89e7-4719-9bbe-bb184a388a90",
   "metadata": {},
   "outputs": [
    {
     "name": "stdout",
     "output_type": "stream",
     "text": [
      "Funny Got Data MIS Data Systems Business Analyst T-Shirt\n",
      "16.99\n"
     ]
    }
   ],
   "source": [
    "URL = 'https://www.amazon.com/Funny-Data-Systems-Business-Analyst/dp/B07FNW9FGJ/ref=sr_1_3?dchild=1&keywords=data%2Banalyst%2Btshirt&qid=1626655184&sr=8-3&customId=B0752XJYNL&th=1'\n",
    "\n",
    "headers = {\"User-Agent\": \"Mozilla/5.0 (Windows NT 10.0; Win64; x64) AppleWebKit/537.36 (KHTML, like Gecko) Chrome/78.0.3904.108 Safari/537.36\", \"Accept-Encoding\":\"gzip, deflate\", \"Accept\":\"text/html,application/xhtml+xml,application/xml;q=0.9,*/*;q=0.8\", \"DNT\":\"1\",\"Connection\":\"close\", \"Upgrade-Insecure-Requests\":\"1\"}\n",
    "\n",
    "page = requests.get(URL, headers=headers)\n",
    "\n",
    "soup1 = BeautifulSoup(page.content, \"html.parser\")\n",
    "\n",
    "soup2 = BeautifulSoup(soup1.prettify(), \"html\")\n",
    "\n",
    "# print(soup2)\n",
    "\n",
    "title = soup2.find(id=\"productTitle\").get_text().strip()\n",
    "price = soup2.find(class_=\"aok-offscreen\").get_text().strip() # gets the price\n",
    "\n",
    "price = price[1:] # keep everything in position 1 onward\n",
    "\n",
    "print(title)\n",
    "print(price)"
   ]
  },
  {
   "cell_type": "code",
   "execution_count": 29,
   "id": "fad2acac-313a-42bb-9af9-fbbb94afc414",
   "metadata": {},
   "outputs": [
    {
     "name": "stdout",
     "output_type": "stream",
     "text": [
      "2024-11-03\n",
      "                                               Title  Price        date\n",
      "0  Funny Got Data MIS Data Systems Business Analy...  16.99  2024-11-03\n"
     ]
    }
   ],
   "source": [
    "import csv\n",
    "\n",
    "today = datetime.date.today()\n",
    "print(today)\n",
    "header = ['Title', 'Price', \"date\"]\n",
    "\n",
    "# make sure type of title and price is the same\n",
    "data = [title, price, today] # assuming both are of the same type\n",
    "type(data) # list\n",
    "\n",
    "with open(r\"C:\\Users\\ryzen\\OneDrive\\Alex the analyst data analyst playlist practice\\Python\\Web scraping project\\amazonWebscraperDatacsv.csv\", \"w\", newline='', encoding='UTF-8') as f:\n",
    "    writer = csv.writer(f)\n",
    "    writer.writerow(header)\n",
    "    writer.writerow(data)\n",
    "\n",
    "import pandas as pd\n",
    "\n",
    "df = pd.read_csv(r\"C:\\Users\\ryzen\\OneDrive\\Alex the analyst data analyst playlist practice\\Python\\Web scraping project\\amazonWebscraperDatacsv.csv\")\n",
    "print(df)"
   ]
  },
  {
   "cell_type": "code",
   "execution_count": 32,
   "id": "967cac9b-aa3d-4b70-8fe4-7f80504b335e",
   "metadata": {},
   "outputs": [
    {
     "name": "stdout",
     "output_type": "stream",
     "text": [
      "                                               Title  Price        date\n",
      "0  Funny Got Data MIS Data Systems Business Analy...  16.99  2024-11-03\n",
      "1  Funny Got Data MIS Data Systems Business Analy...  16.99  2024-11-03\n",
      "2  Funny Got Data MIS Data Systems Business Analy...  16.99  2024-11-03\n",
      "3  Funny Got Data MIS Data Systems Business Analy...  16.99  2024-11-03\n"
     ]
    }
   ],
   "source": [
    "# appending to csv, a+ for append\n",
    "\n",
    "with open(r\"C:\\Users\\ryzen\\OneDrive\\Alex the analyst data analyst playlist practice\\Python\\Web scraping project\\amazonWebscraperDatacsv.csv\", \"a+\", newline='', encoding='UTF-8') as f:\n",
    "    writer = csv.writer(f)\n",
    "    writer.writerow(data)\n",
    "\n",
    "df = pd.read_csv(r\"C:\\Users\\ryzen\\OneDrive\\Alex the analyst data analyst playlist practice\\Python\\Web scraping project\\amazonWebscraperDatacsv.csv\")\n",
    "print(df)"
   ]
  },
  {
   "cell_type": "code",
   "execution_count": 34,
   "id": "b092bc7e-73d1-45a3-9f2b-b89d23aa84ec",
   "metadata": {},
   "outputs": [
    {
     "ename": "KeyboardInterrupt",
     "evalue": "",
     "output_type": "error",
     "traceback": [
      "\u001b[1;31m---------------------------------------------------------------------------\u001b[0m",
      "\u001b[1;31mKeyboardInterrupt\u001b[0m                         Traceback (most recent call last)",
      "Cell \u001b[1;32mIn[34], line 33\u001b[0m\n\u001b[0;32m     31\u001b[0m \u001b[38;5;28;01mwhile\u001b[39;00m(\u001b[38;5;28;01mTrue\u001b[39;00m): \u001b[38;5;66;03m# have to stop this block when we are done collecting data because While(True)\u001b[39;00m\n\u001b[0;32m     32\u001b[0m     check_price()\n\u001b[1;32m---> 33\u001b[0m     time\u001b[38;5;241m.\u001b[39msleep(\u001b[38;5;241m5\u001b[39m)\n",
      "\u001b[1;31mKeyboardInterrupt\u001b[0m: "
     ]
    }
   ],
   "source": [
    "def check_price():\n",
    "    URL = 'https://www.amazon.com/Funny-Data-Systems-Business-Analyst/dp/B07FNW9FGJ/ref=sr_1_3?dchild=1&keywords=data%2Banalyst%2Btshirt&qid=1626655184&sr=8-3&customId=B0752XJYNL&th=1'\n",
    "\n",
    "    headers = {\"User-Agent\": \"Mozilla/5.0 (Windows NT 10.0; Win64; x64) AppleWebKit/537.36 (KHTML, like Gecko) Chrome/78.0.3904.108 Safari/537.36\", \"Accept-Encoding\":\"gzip, deflate\", \"Accept\":\"text/html,application/xhtml+xml,application/xml;q=0.9,*/*;q=0.8\", \"DNT\":\"1\",\"Connection\":\"close\", \"Upgrade-Insecure-Requests\":\"1\"}\n",
    "\n",
    "    page = requests.get(URL, headers=headers)\n",
    "\n",
    "    soup1 = BeautifulSoup(page.content, \"html.parser\")\n",
    "\n",
    "    soup2 = BeautifulSoup(soup1.prettify(), \"html\")\n",
    "\n",
    "    # print(soup2)\n",
    "\n",
    "    title = soup2.find(id=\"productTitle\").get_text().strip()\n",
    "    price = soup2.find(class_=\"aok-offscreen\").get_text().strip() # gets the price\n",
    "\n",
    "    price = price[1:] # keep everything in position 1 onward\n",
    "\n",
    "    today = datetime.date.today()\n",
    "    \n",
    "    header = ['Title', 'Price', \"date\"]\n",
    "\n",
    "    # make sure type of title and price is the same\n",
    "    data = [title, price, today] # assuming both are of the same type\n",
    "    type(data) # list\n",
    "    \n",
    "    with open(r\"C:\\Users\\ryzen\\OneDrive\\Alex the analyst data analyst playlist practice\\Python\\Web scraping project\\amazonWebscraperDatacsv.csv\", \"a+\", newline='', encoding='UTF-8') as f:\n",
    "        writer = csv.writer(f)\n",
    "        writer.writerow(data)\n",
    "\n",
    "while(True): # have to stop this block when we are done collecting data because While(True)\n",
    "    check_price()\n",
    "    time.sleep(5) # sleeps every 5 seconds"
   ]
  }
 ],
 "metadata": {
  "kernelspec": {
   "display_name": "Python 3 (ipykernel)",
   "language": "python",
   "name": "python3"
  },
  "language_info": {
   "codemirror_mode": {
    "name": "ipython",
    "version": 3
   },
   "file_extension": ".py",
   "mimetype": "text/x-python",
   "name": "python",
   "nbconvert_exporter": "python",
   "pygments_lexer": "ipython3",
   "version": "3.12.7"
  }
 },
 "nbformat": 4,
 "nbformat_minor": 5
}
